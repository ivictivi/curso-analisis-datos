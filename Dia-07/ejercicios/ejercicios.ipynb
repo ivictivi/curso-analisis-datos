{
 "cells": [
  {
   "cell_type": "markdown",
   "metadata": {},
   "source": [
    "# PROYECTO FINAL: ANÁLISIS DE ARTISTAS EN SPOTIFY Y YOUTUBE"
   ]
  },
  {
   "cell_type": "markdown",
   "metadata": {},
   "source": [
    "## Ejercicio 1: Limpieza de Datos\n",
    "\n",
    "Identifica las columnas con valores nulos y sigue estas reglas:\n",
    "\n",
    "* Si una columna tiene más del 50% de valores nulos, elimínala.\n",
    "* Para columnas numéricas con valores nulos, reemplázalos por la mediana.\n",
    "* Para columnas categóricas con valores nulos, reemplázalos por el valor más frecuente.\n",
    "* Cambia los tipos de datos de las siguientes columnas:\n",
    "* Convierte \"Key\" y \"Tempo\" a tipo entero.\n",
    "* Convierte \"Views\", \"Likes\", \"Comments\", y \"Stream\" a tipo flotante.\n",
    "* Guarda el dataset limpio en una variable llamada data_cleaned."
   ]
  },
  {
   "cell_type": "code",
   "execution_count": null,
   "metadata": {},
   "outputs": [],
   "source": [
    "import pandas as pd\n",
    "import seaborn as sns\n",
    "import matplotlib.pyplot as plt\n",
    "\n",
    "data = pd.read_csv(\"../datasets/Spotify_Youtube.csv\", index_col=0)\n"
   ]
  },
  {
   "cell_type": "code",
   "execution_count": null,
   "metadata": {},
   "outputs": [],
   "source": []
  },
  {
   "cell_type": "markdown",
   "metadata": {},
   "source": [
    "## Ejercicio 2: Análisis Descriptivo del dataset Limpio\n",
    "\n",
    "Utilizando data_cleaned, calcula las siguientes estadísticas descriptivas para las columnas \"Views\", \"Likes\", \"Comments\", y \"Stream\":\n",
    "\n",
    "* Media, mediana, desviación estándar, mínimo, y máximo.\n",
    "* Guarda estas estadísticas en un dataFrame llamado descriptive_stats.\n",
    "* Filtra todas las canciones con más de 500 millones de visualizaciones (\"Views\") y guarda este subconjunto en top_youtube."
   ]
  },
  {
   "cell_type": "code",
   "execution_count": null,
   "metadata": {},
   "outputs": [],
   "source": [
    "\n"
   ]
  },
  {
   "cell_type": "markdown",
   "metadata": {},
   "source": [
    "## Ejercicio 3: Creación de Nuevas Columnas y Análisis por Grupo\n",
    "\n",
    "**Utiliza el dataFrame top_youtube.** \n",
    "\n",
    "* Crea una nueva columna llamada \"Likes_to_Views\" que represente la proporción de \"Likes\" respecto a \"Views\", con dos decimales.\n",
    "* Agrupa las canciones de top_youtube por \"Album_type\" y calcula:\n",
    "* Promedio y mediana de \"Energy\" y \"Danceability\".\n",
    "* Total de \"Views\" y \"Stream\" por tipo de álbum.\n",
    "* Guarda el resultado de la agrupación en un nuevo dataFrame llamado album_analysis."
   ]
  },
  {
   "cell_type": "code",
   "execution_count": null,
   "metadata": {},
   "outputs": [],
   "source": []
  },
  {
   "cell_type": "markdown",
   "metadata": {},
   "source": [
    "## Ejercicio 4: Identificación de Canciones con Baja Proporción de Likes\n",
    "\n",
    "**Utiliza el dataFrame top_youtube.**\n",
    "\n",
    "* Filtra todas las canciones cuya proporción \"Likes_to_Views\" sea menor a 0.01.\n",
    "* Guarda este subconjunto en un dataFrame llamado low_likes.\n",
    "* Dentro de low_likes, calcula el número total de canciones por \"Album_type\" y guarda el resultado en un dataFrame llamado low_likes_summary."
   ]
  },
  {
   "cell_type": "code",
   "execution_count": null,
   "metadata": {},
   "outputs": [],
   "source": []
  },
  {
   "cell_type": "markdown",
   "metadata": {},
   "source": [
    "## Ejercicio 5: Análisis de Tendencias de Canciones con Baja Proporción de Likes\n",
    "\n",
    "**Utiliza el dataFrame low_likes.**\n",
    "\n",
    "Crea un gráfico de líneas que muestre:\n",
    "\n",
    "* La relación promedio entre \"Stream\" y \"Energy\" para las canciones en low_likes.\n",
    "* En el eje X: \"Energy\".\n",
    "* En el eje Y: promedio de \"Stream\".\n",
    "* Diferencia los tipos de álbum (\"Album_type\") con colores en el gráfico.\n",
    "* Asegúrate de incluir título, leyendas, y etiquetas de ejes."
   ]
  },
  {
   "cell_type": "code",
   "execution_count": null,
   "metadata": {},
   "outputs": [],
   "source": []
  },
  {
   "cell_type": "markdown",
   "metadata": {},
   "source": [
    "## Ejercicio 6: Exploración de Correlaciones\n",
    "\n",
    "* Calcula la matriz de correlación para las columnas \"Views\", \"Likes\", \"Comments\", \"Stream\", \"Energy\", y \"Danceability\" en low_likes, para ello utiliza el método corr() de los dataframes.\n",
    "* Genera un mapa de calor de esta matriz de correlación.\n",
    "* Asegúrate de incluir una barra de colores, etiquetas de ejes, y un título descriptivo."
   ]
  },
  {
   "cell_type": "code",
   "execution_count": null,
   "metadata": {},
   "outputs": [],
   "source": []
  },
  {
   "cell_type": "markdown",
   "metadata": {},
   "source": [
    "## Ejercicio 7: Análisis de Artistas\n",
    "\n",
    "**Utiliza el dataFrame low_likes.**\n",
    "\n",
    "* Identifica los tres artistas con el mayor total de \"Stream\" en este subconjunto.\n",
    "* Presenta un dataFrame con el nombre del artista y el total correspondiente, ordenados de mayor a menor.\n",
    "* Genera un gráfico de barras que compare estos totales entre los artistas identificados, en el eje X debe ir la variable stream y en el eje Y la variable Artist, para ello utiliza el método barplot() de la librería seaborn."
   ]
  },
  {
   "cell_type": "code",
   "execution_count": null,
   "metadata": {},
   "outputs": [],
   "source": []
  }
 ],
 "metadata": {
  "kernelspec": {
   "display_name": "Python 3",
   "language": "python",
   "name": "python3"
  },
  "language_info": {
   "codemirror_mode": {
    "name": "ipython",
    "version": 3
   },
   "file_extension": ".py",
   "mimetype": "text/x-python",
   "name": "python",
   "nbconvert_exporter": "python",
   "pygments_lexer": "ipython3",
   "version": "3.9.9"
  }
 },
 "nbformat": 4,
 "nbformat_minor": 2
}
